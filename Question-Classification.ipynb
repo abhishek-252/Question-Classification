{
 "cells": [
  {
   "cell_type": "markdown",
   "metadata": {},
   "source": [
    "## Some dependencies"
   ]
  },
  {
   "cell_type": "code",
   "execution_count": 1,
   "metadata": {},
   "outputs": [],
   "source": [
    "#!pip install tensorflow_hub\n",
    "#!pip install tensorflow_text\n",
    "#!pip install tf-estimator-nightly==2.4.0.dev2020101001"
   ]
  },
  {
   "cell_type": "markdown",
   "metadata": {},
   "source": [
    "## Making Necessary Imports"
   ]
  },
  {
   "cell_type": "code",
   "execution_count": 87,
   "metadata": {},
   "outputs": [],
   "source": [
    "import fitz\n",
    "import os\n",
    "import re\n",
    "import pandas as pd\n",
    "import numpy as np\n",
    "import matplotlib.pyplot as plt\n",
    "import seaborn as sn\n",
    "import tensorflow as tf\n",
    "import tensorflow_hub as hub\n",
    "import tensorflow_text as text\n",
    "import numpy as np\n",
    "from sklearn.metrics import accuracy_score\n",
    "from sklearn.metrics import confusion_matrix, classification_report\n",
    "from sklearn.model_selection import train_test_split"
   ]
  },
  {
   "cell_type": "markdown",
   "metadata": {},
   "source": [
    "## Converting pdf files to text files (for history questions)"
   ]
  },
  {
   "cell_type": "code",
   "execution_count": 4,
   "metadata": {},
   "outputs": [],
   "source": [
    "for i in range(1,10):\n",
    "    file = fitz.open(f'History/anhi-dca-{i}.pdf')\n",
    "\n",
    "    for pagenum, page in enumerate(file.pages(),start=1):\n",
    "        text = page.getText()\n",
    "        txt = open(f'report{i}.txt','a',encoding='utf-8')\n",
    "        txt.writelines(text)\n",
    "        txt.close()"
   ]
  },
  {
   "cell_type": "markdown",
   "metadata": {},
   "source": [
    "_**Converting one file with a different name separately**_"
   ]
  },
  {
   "cell_type": "code",
   "execution_count": 3,
   "metadata": {},
   "outputs": [],
   "source": [
    "file = fitz.open('History/Ancient 1.pdf')\n",
    "\n",
    "for pagenum, page in enumerate(file.pages(),start=1):\n",
    "    text = page.getText()\n",
    "    txt = open('report0.txt','a',encoding='utf-8')\n",
    "    txt.writelines(text)\n",
    "    txt.close()"
   ]
  },
  {
   "cell_type": "markdown",
   "metadata": {},
   "source": [
    "## Data Preprocessing (for history questions)"
   ]
  },
  {
   "cell_type": "code",
   "execution_count": 5,
   "metadata": {},
   "outputs": [],
   "source": [
    "total = []\n",
    "for i in range(1,10):\n",
    "    file = open(f'report{i}.txt','r+')\n",
    "    question = file.read().split('showanswer\\n')\n",
    "    question = [i.strip() for i in question]\n",
    "    question = [i.replace('\\n',' ') for i in question]\n",
    "    question = [i.partition('[A]')[0] for i in question]\n",
    "    total.extend(question)"
   ]
  },
  {
   "cell_type": "code",
   "execution_count": 6,
   "metadata": {},
   "outputs": [],
   "source": [
    "file = open('report0.txt','r+',encoding='utf-8')\n",
    "add_question = file.read().split('showanswer')\n",
    "add_question = [i.strip() for i in add_question]\n",
    "add_question = [i.replace('\\n',' ') for i in add_question]\n",
    "add_question = [i.partition('a)')[0] for i in add_question]\n",
    "add_question = [i[3:] for i in add_question]\n",
    "total.extend(add_question)"
   ]
  },
  {
   "cell_type": "markdown",
   "metadata": {},
   "source": [
    "## Creating dataframe with only history questions"
   ]
  },
  {
   "cell_type": "code",
   "execution_count": 7,
   "metadata": {},
   "outputs": [],
   "source": [
    "history_df = pd.DataFrame(total,columns=['questions'])"
   ]
  },
  {
   "cell_type": "code",
   "execution_count": 8,
   "metadata": {},
   "outputs": [],
   "source": [
    "history_df['category'] = 'History'"
   ]
  },
  {
   "cell_type": "code",
   "execution_count": 9,
   "metadata": {},
   "outputs": [
    {
     "data": {
      "text/html": [
       "<div>\n",
       "<style scoped>\n",
       "    .dataframe tbody tr th:only-of-type {\n",
       "        vertical-align: middle;\n",
       "    }\n",
       "\n",
       "    .dataframe tbody tr th {\n",
       "        vertical-align: top;\n",
       "    }\n",
       "\n",
       "    .dataframe thead th {\n",
       "        text-align: right;\n",
       "    }\n",
       "</style>\n",
       "<table border=\"1\" class=\"dataframe\">\n",
       "  <thead>\n",
       "    <tr style=\"text-align: right;\">\n",
       "      <th></th>\n",
       "      <th>questions</th>\n",
       "      <th>category</th>\n",
       "    </tr>\n",
       "  </thead>\n",
       "  <tbody>\n",
       "    <tr>\n",
       "      <th>0</th>\n",
       "      <td>Hathigumpha inscription gives account of which...</td>\n",
       "      <td>History</td>\n",
       "    </tr>\n",
       "    <tr>\n",
       "      <th>1</th>\n",
       "      <td>As per Asokaâ€™s inscriptions, which among the...</td>\n",
       "      <td>History</td>\n",
       "    </tr>\n",
       "    <tr>\n",
       "      <th>2</th>\n",
       "      <td>Which of the following ruler of Satavahana Emp...</td>\n",
       "      <td>History</td>\n",
       "    </tr>\n",
       "    <tr>\n",
       "      <th>3</th>\n",
       "      <td>Who presided First Buddhist Council?</td>\n",
       "      <td>History</td>\n",
       "    </tr>\n",
       "    <tr>\n",
       "      <th>4</th>\n",
       "      <td>In which among the following sacrifices, the s...</td>\n",
       "      <td>History</td>\n",
       "    </tr>\n",
       "  </tbody>\n",
       "</table>\n",
       "</div>"
      ],
      "text/plain": [
       "                                           questions category\n",
       "0  Hathigumpha inscription gives account of which...  History\n",
       "1  As per Asokaâ€™s inscriptions, which among the...  History\n",
       "2  Which of the following ruler of Satavahana Emp...  History\n",
       "3              Who presided First Buddhist Council?   History\n",
       "4  In which among the following sacrifices, the s...  History"
      ]
     },
     "execution_count": 9,
     "metadata": {},
     "output_type": "execute_result"
    }
   ],
   "source": [
    "history_df.head()"
   ]
  },
  {
   "cell_type": "markdown",
   "metadata": {},
   "source": [
    "## Converting pdf file to text files (for Science & Tech questions)"
   ]
  },
  {
   "cell_type": "code",
   "execution_count": 10,
   "metadata": {},
   "outputs": [],
   "source": [
    "for i in range(1,11):\n",
    "    file = fitz.open(f'Science and Tech/qna-scte-{i}.pdf')\n",
    "\n",
    "    for pagenum, page in enumerate(file.pages(),start=1):\n",
    "        text = page.getText()\n",
    "        txt = open(f'sci_report{i}.txt','a',encoding='utf-8')\n",
    "        txt.writelines(text)\n",
    "        txt.close()"
   ]
  },
  {
   "cell_type": "markdown",
   "metadata": {},
   "source": [
    "## Data Preprocessing (For Science & Tech questions)"
   ]
  },
  {
   "cell_type": "code",
   "execution_count": 11,
   "metadata": {},
   "outputs": [],
   "source": [
    "sci_tech_questions = []\n",
    "for i in range(1,11):\n",
    "    sci_file = open(f'sci_report{i}.txt','r+',encoding='utf-8')\n",
    "    sci_question = sci_file.readlines()\n",
    "    sci_question = [i.replace('\\n','') for i in sci_question]\n",
    "    for text in sci_question:\n",
    "        if ('https://' not in text) and ('?' in text):\n",
    "            sci_tech_questions.append(text)  "
   ]
  },
  {
   "cell_type": "markdown",
   "metadata": {},
   "source": [
    "## Creating DataFrame for Science & Tech Questions"
   ]
  },
  {
   "cell_type": "code",
   "execution_count": 12,
   "metadata": {},
   "outputs": [],
   "source": [
    "sci_tech_df = pd.DataFrame(sci_tech_questions,columns=['questions'])"
   ]
  },
  {
   "cell_type": "code",
   "execution_count": 13,
   "metadata": {},
   "outputs": [],
   "source": [
    "sci_tech_df['category'] = 'Science&Tech'"
   ]
  },
  {
   "cell_type": "code",
   "execution_count": 14,
   "metadata": {},
   "outputs": [
    {
     "data": {
      "text/html": [
       "<div>\n",
       "<style scoped>\n",
       "    .dataframe tbody tr th:only-of-type {\n",
       "        vertical-align: middle;\n",
       "    }\n",
       "\n",
       "    .dataframe tbody tr th {\n",
       "        vertical-align: top;\n",
       "    }\n",
       "\n",
       "    .dataframe thead th {\n",
       "        text-align: right;\n",
       "    }\n",
       "</style>\n",
       "<table border=\"1\" class=\"dataframe\">\n",
       "  <thead>\n",
       "    <tr style=\"text-align: right;\">\n",
       "      <th></th>\n",
       "      <th>questions</th>\n",
       "      <th>category</th>\n",
       "    </tr>\n",
       "  </thead>\n",
       "  <tbody>\n",
       "    <tr>\n",
       "      <th>0</th>\n",
       "      <td>In which decade was the American Institute of ...</td>\n",
       "      <td>Science&amp;Tech</td>\n",
       "    </tr>\n",
       "    <tr>\n",
       "      <th>1</th>\n",
       "      <td>What is part of a database that holds only one...</td>\n",
       "      <td>Science&amp;Tech</td>\n",
       "    </tr>\n",
       "    <tr>\n",
       "      <th>2</th>\n",
       "      <td>'OS' computer abbreviation usually means ?</td>\n",
       "      <td>Science&amp;Tech</td>\n",
       "    </tr>\n",
       "    <tr>\n",
       "      <th>3</th>\n",
       "      <td>In which decade with the first transatlantic r...</td>\n",
       "      <td>Science&amp;Tech</td>\n",
       "    </tr>\n",
       "    <tr>\n",
       "      <th>4</th>\n",
       "      <td>'.MOV' extension refers usually to what kind o...</td>\n",
       "      <td>Science&amp;Tech</td>\n",
       "    </tr>\n",
       "  </tbody>\n",
       "</table>\n",
       "</div>"
      ],
      "text/plain": [
       "                                           questions      category\n",
       "0  In which decade was the American Institute of ...  Science&Tech\n",
       "1  What is part of a database that holds only one...  Science&Tech\n",
       "2         'OS' computer abbreviation usually means ?  Science&Tech\n",
       "3  In which decade with the first transatlantic r...  Science&Tech\n",
       "4  '.MOV' extension refers usually to what kind o...  Science&Tech"
      ]
     },
     "execution_count": 14,
     "metadata": {},
     "output_type": "execute_result"
    }
   ],
   "source": [
    "sci_tech_df.head()"
   ]
  },
  {
   "cell_type": "markdown",
   "metadata": {},
   "source": [
    "## Combing both dataframes to form a single questions Dataframe containing all questions and shuffing the dataframe"
   ]
  },
  {
   "cell_type": "code",
   "execution_count": 15,
   "metadata": {},
   "outputs": [],
   "source": [
    "questions_df = pd.concat([history_df,sci_tech_df])"
   ]
  },
  {
   "cell_type": "code",
   "execution_count": 16,
   "metadata": {},
   "outputs": [
    {
     "data": {
      "text/html": [
       "<div>\n",
       "<style scoped>\n",
       "    .dataframe tbody tr th:only-of-type {\n",
       "        vertical-align: middle;\n",
       "    }\n",
       "\n",
       "    .dataframe tbody tr th {\n",
       "        vertical-align: top;\n",
       "    }\n",
       "\n",
       "    .dataframe thead th {\n",
       "        text-align: right;\n",
       "    }\n",
       "</style>\n",
       "<table border=\"1\" class=\"dataframe\">\n",
       "  <thead>\n",
       "    <tr style=\"text-align: right;\">\n",
       "      <th></th>\n",
       "      <th>questions</th>\n",
       "      <th>category</th>\n",
       "    </tr>\n",
       "  </thead>\n",
       "  <tbody>\n",
       "    <tr>\n",
       "      <th>0</th>\n",
       "      <td>Hathigumpha inscription gives account of which...</td>\n",
       "      <td>History</td>\n",
       "    </tr>\n",
       "    <tr>\n",
       "      <th>1</th>\n",
       "      <td>As per Asokaâ€™s inscriptions, which among the...</td>\n",
       "      <td>History</td>\n",
       "    </tr>\n",
       "    <tr>\n",
       "      <th>2</th>\n",
       "      <td>Which of the following ruler of Satavahana Emp...</td>\n",
       "      <td>History</td>\n",
       "    </tr>\n",
       "    <tr>\n",
       "      <th>3</th>\n",
       "      <td>Who presided First Buddhist Council?</td>\n",
       "      <td>History</td>\n",
       "    </tr>\n",
       "    <tr>\n",
       "      <th>4</th>\n",
       "      <td>In which among the following sacrifices, the s...</td>\n",
       "      <td>History</td>\n",
       "    </tr>\n",
       "    <tr>\n",
       "      <th>...</th>\n",
       "      <td>...</td>\n",
       "      <td>...</td>\n",
       "    </tr>\n",
       "    <tr>\n",
       "      <th>45</th>\n",
       "      <td>'.JPG' extension refers usually to what kind o...</td>\n",
       "      <td>Science&amp;Tech</td>\n",
       "    </tr>\n",
       "    <tr>\n",
       "      <th>46</th>\n",
       "      <td>What does AM mean?</td>\n",
       "      <td>Science&amp;Tech</td>\n",
       "    </tr>\n",
       "    <tr>\n",
       "      <th>47</th>\n",
       "      <td>In what year was the \"@\" chosen for its use in...</td>\n",
       "      <td>Science&amp;Tech</td>\n",
       "    </tr>\n",
       "    <tr>\n",
       "      <th>48</th>\n",
       "      <td>'.TXT' extension refers usually to what kind o...</td>\n",
       "      <td>Science&amp;Tech</td>\n",
       "    </tr>\n",
       "    <tr>\n",
       "      <th>49</th>\n",
       "      <td>What was the first ARPANET message?</td>\n",
       "      <td>Science&amp;Tech</td>\n",
       "    </tr>\n",
       "  </tbody>\n",
       "</table>\n",
       "<p>245 rows × 2 columns</p>\n",
       "</div>"
      ],
      "text/plain": [
       "                                            questions      category\n",
       "0   Hathigumpha inscription gives account of which...       History\n",
       "1   As per Asokaâ€™s inscriptions, which among the...       History\n",
       "2   Which of the following ruler of Satavahana Emp...       History\n",
       "3               Who presided First Buddhist Council?        History\n",
       "4   In which among the following sacrifices, the s...       History\n",
       "..                                                ...           ...\n",
       "45  '.JPG' extension refers usually to what kind o...  Science&Tech\n",
       "46                                 What does AM mean?  Science&Tech\n",
       "47  In what year was the \"@\" chosen for its use in...  Science&Tech\n",
       "48  '.TXT' extension refers usually to what kind o...  Science&Tech\n",
       "49                What was the first ARPANET message?  Science&Tech\n",
       "\n",
       "[245 rows x 2 columns]"
      ]
     },
     "execution_count": 16,
     "metadata": {},
     "output_type": "execute_result"
    }
   ],
   "source": [
    "questions_df"
   ]
  },
  {
   "cell_type": "code",
   "execution_count": 17,
   "metadata": {},
   "outputs": [],
   "source": [
    "# shuffling\n",
    "questions_df = questions_df.sample(frac = 1)"
   ]
  },
  {
   "cell_type": "markdown",
   "metadata": {},
   "source": [
    "### Reseting the index as it gets disturbed after shuffling"
   ]
  },
  {
   "cell_type": "code",
   "execution_count": 18,
   "metadata": {},
   "outputs": [],
   "source": [
    "index = list(range(len(questions_df)))\n",
    "questions_df.index = index"
   ]
  },
  {
   "cell_type": "markdown",
   "metadata": {},
   "source": [
    "## Final Dataframe"
   ]
  },
  {
   "cell_type": "code",
   "execution_count": 19,
   "metadata": {},
   "outputs": [
    {
     "data": {
      "text/html": [
       "<div>\n",
       "<style scoped>\n",
       "    .dataframe tbody tr th:only-of-type {\n",
       "        vertical-align: middle;\n",
       "    }\n",
       "\n",
       "    .dataframe tbody tr th {\n",
       "        vertical-align: top;\n",
       "    }\n",
       "\n",
       "    .dataframe thead th {\n",
       "        text-align: right;\n",
       "    }\n",
       "</style>\n",
       "<table border=\"1\" class=\"dataframe\">\n",
       "  <thead>\n",
       "    <tr style=\"text-align: right;\">\n",
       "      <th></th>\n",
       "      <th>questions</th>\n",
       "      <th>category</th>\n",
       "    </tr>\n",
       "  </thead>\n",
       "  <tbody>\n",
       "    <tr>\n",
       "      <th>0</th>\n",
       "      <td>What was the unit of currency during the Rig V...</td>\n",
       "      <td>History</td>\n",
       "    </tr>\n",
       "    <tr>\n",
       "      <th>1</th>\n",
       "      <td>Which of the following is / are correct statem...</td>\n",
       "      <td>History</td>\n",
       "    </tr>\n",
       "    <tr>\n",
       "      <th>2</th>\n",
       "      <td>Gandhar art is a combination of ____________ ?</td>\n",
       "      <td>History</td>\n",
       "    </tr>\n",
       "    <tr>\n",
       "      <th>3</th>\n",
       "      <td>Which of the following rulers is considered as...</td>\n",
       "      <td>History</td>\n",
       "    </tr>\n",
       "    <tr>\n",
       "      <th>4</th>\n",
       "      <td>What is part of a database that holds only one...</td>\n",
       "      <td>Science&amp;Tech</td>\n",
       "    </tr>\n",
       "    <tr>\n",
       "      <th>...</th>\n",
       "      <td>...</td>\n",
       "      <td>...</td>\n",
       "    </tr>\n",
       "    <tr>\n",
       "      <th>240</th>\n",
       "      <td>With reference to cultural history of India, ...</td>\n",
       "      <td>History</td>\n",
       "    </tr>\n",
       "    <tr>\n",
       "      <th>241</th>\n",
       "      <td>Which of the following was the head of the boa...</td>\n",
       "      <td>History</td>\n",
       "    </tr>\n",
       "    <tr>\n",
       "      <th>242</th>\n",
       "      <td>First Buddhist Council was held during the rei...</td>\n",
       "      <td>History</td>\n",
       "    </tr>\n",
       "    <tr>\n",
       "      <th>243</th>\n",
       "      <td>Consider the following pairs.  Folk paintings...</td>\n",
       "      <td>History</td>\n",
       "    </tr>\n",
       "    <tr>\n",
       "      <th>244</th>\n",
       "      <td>Who said that Tibet is the original home of Ar...</td>\n",
       "      <td>History</td>\n",
       "    </tr>\n",
       "  </tbody>\n",
       "</table>\n",
       "<p>245 rows × 2 columns</p>\n",
       "</div>"
      ],
      "text/plain": [
       "                                             questions      category\n",
       "0    What was the unit of currency during the Rig V...       History\n",
       "1    Which of the following is / are correct statem...       History\n",
       "2      Gandhar art is a combination of ____________ ?        History\n",
       "3    Which of the following rulers is considered as...       History\n",
       "4    What is part of a database that holds only one...  Science&Tech\n",
       "..                                                 ...           ...\n",
       "240   With reference to cultural history of India, ...       History\n",
       "241  Which of the following was the head of the boa...       History\n",
       "242  First Buddhist Council was held during the rei...       History\n",
       "243   Consider the following pairs.  Folk paintings...       History\n",
       "244  Who said that Tibet is the original home of Ar...       History\n",
       "\n",
       "[245 rows x 2 columns]"
      ]
     },
     "execution_count": 19,
     "metadata": {},
     "output_type": "execute_result"
    }
   ],
   "source": [
    "questions_df"
   ]
  },
  {
   "cell_type": "markdown",
   "metadata": {},
   "source": [
    "## Using dummy values to encode categorical values in \"category\" column"
   ]
  },
  {
   "cell_type": "code",
   "execution_count": 20,
   "metadata": {},
   "outputs": [],
   "source": [
    "questions_df['category'] = pd.get_dummies(questions_df['category'],drop_first=True)"
   ]
  },
  {
   "cell_type": "markdown",
   "metadata": {},
   "source": [
    "## Performing train-test split(80-20 ratio)"
   ]
  },
  {
   "cell_type": "code",
   "execution_count": 58,
   "metadata": {},
   "outputs": [],
   "source": [
    "X_train, X_test, y_train, y_test = train_test_split(questions_df['questions'],questions_df['category'], test_size=0.2,stratify=questions_df['category'])"
   ]
  },
  {
   "cell_type": "markdown",
   "metadata": {},
   "source": [
    "## Now lets import BERT model"
   ]
  },
  {
   "cell_type": "code",
   "execution_count": 59,
   "metadata": {},
   "outputs": [],
   "source": [
    "bert_preprocess = hub.KerasLayer(\"https://tfhub.dev/tensorflow/bert_en_uncased_preprocess/3\")\n",
    "bert_encoder = hub.KerasLayer(\"https://tfhub.dev/tensorflow/bert_en_uncased_L-12_H-768_A-12/4\")"
   ]
  },
  {
   "cell_type": "markdown",
   "metadata": {},
   "source": [
    "## Building Model"
   ]
  },
  {
   "cell_type": "code",
   "execution_count": 63,
   "metadata": {},
   "outputs": [],
   "source": [
    "# Bert layers\n",
    "text_input = tf.keras.layers.Input(shape=(), dtype=tf.string, name='text')\n",
    "preprocessed_text = bert_preprocess(text_input)\n",
    "outputs = bert_encoder(preprocessed_text)\n",
    "\n",
    "# Neural network layers\n",
    "l = tf.keras.layers.Dropout(0.1, name=\"dropout\")(outputs['pooled_output'])\n",
    "l = tf.keras.layers.Dense(1, activation='sigmoid', name=\"output\")(l)\n",
    "\n",
    "# Use inputs and outputs to construct a final model\n",
    "model = tf.keras.Model(inputs=[text_input], outputs = [l])"
   ]
  },
  {
   "cell_type": "code",
   "execution_count": 64,
   "metadata": {},
   "outputs": [
    {
     "name": "stdout",
     "output_type": "stream",
     "text": [
      "Model: \"model_4\"\n",
      "__________________________________________________________________________________________________\n",
      "Layer (type)                    Output Shape         Param #     Connected to                     \n",
      "==================================================================================================\n",
      "text (InputLayer)               [(None,)]            0                                            \n",
      "__________________________________________________________________________________________________\n",
      "keras_layer_2 (KerasLayer)      {'input_mask': (None 0           text[0][0]                       \n",
      "__________________________________________________________________________________________________\n",
      "keras_layer_3 (KerasLayer)      {'default': (None, 7 109482241   keras_layer_2[0][0]              \n",
      "                                                                 keras_layer_2[0][1]              \n",
      "                                                                 keras_layer_2[0][2]              \n",
      "__________________________________________________________________________________________________\n",
      "dropout (Dropout)               (None, 768)          0           keras_layer_3[0][13]             \n",
      "__________________________________________________________________________________________________\n",
      "output (Dense)                  (None, 1)            769         dropout[0][0]                    \n",
      "==================================================================================================\n",
      "Total params: 109,483,010\n",
      "Trainable params: 769\n",
      "Non-trainable params: 109,482,241\n",
      "__________________________________________________________________________________________________\n"
     ]
    }
   ],
   "source": [
    "model.summary()"
   ]
  },
  {
   "cell_type": "code",
   "execution_count": 65,
   "metadata": {},
   "outputs": [],
   "source": [
    "METRICS = [\n",
    "      tf.keras.metrics.BinaryAccuracy(name='accuracy'),\n",
    "      tf.keras.metrics.Precision(name='precision'),\n",
    "      tf.keras.metrics.Recall(name='recall')\n",
    "]\n",
    "\n",
    "model.compile(optimizer='adam',\n",
    "              loss='binary_crossentropy',\n",
    "              metrics=METRICS)"
   ]
  },
  {
   "cell_type": "markdown",
   "metadata": {},
   "source": [
    "## Training our model"
   ]
  },
  {
   "cell_type": "code",
   "execution_count": 66,
   "metadata": {},
   "outputs": [
    {
     "name": "stdout",
     "output_type": "stream",
     "text": [
      "Epoch 1/60\n",
      "7/7 [==============================] - 76s 8s/step - loss: 0.5336 - accuracy: 0.7959 - precision: 0.0000e+00 - recall: 0.0000e+00\n",
      "Epoch 2/60\n",
      "7/7 [==============================] - 58s 8s/step - loss: 0.5064 - accuracy: 0.7857 - precision: 0.2500 - recall: 0.0250\n",
      "Epoch 3/60\n",
      "7/7 [==============================] - 58s 8s/step - loss: 0.4687 - accuracy: 0.7908 - precision: 0.0000e+00 - recall: 0.0000e+00\n",
      "Epoch 4/60\n",
      "7/7 [==============================] - 57s 8s/step - loss: 0.4857 - accuracy: 0.7908 - precision: 0.0000e+00 - recall: 0.0000e+00\n",
      "Epoch 5/60\n",
      "7/7 [==============================] - 60s 8s/step - loss: 0.4658 - accuracy: 0.7857 - precision: 0.0000e+00 - recall: 0.0000e+00\n",
      "Epoch 6/60\n",
      "7/7 [==============================] - 60s 8s/step - loss: 0.4527 - accuracy: 0.7908 - precision: 0.0000e+00 - recall: 0.0000e+00\n",
      "Epoch 7/60\n",
      "7/7 [==============================] - 59s 8s/step - loss: 0.4398 - accuracy: 0.7959 - precision: 0.5000 - recall: 0.0500\n",
      "Epoch 8/60\n",
      "7/7 [==============================] - 58s 8s/step - loss: 0.4284 - accuracy: 0.7959 - precision: 0.5000 - recall: 0.0750\n",
      "Epoch 9/60\n",
      "7/7 [==============================] - 58s 8s/step - loss: 0.4231 - accuracy: 0.7908 - precision: 0.4286 - recall: 0.0750\n",
      "Epoch 10/60\n",
      "7/7 [==============================] - 58s 8s/step - loss: 0.3920 - accuracy: 0.8163 - precision: 0.7000 - recall: 0.1750\n",
      "Epoch 11/60\n",
      "7/7 [==============================] - 58s 8s/step - loss: 0.3989 - accuracy: 0.8214 - precision: 0.7273 - recall: 0.2000\n",
      "Epoch 12/60\n",
      "7/7 [==============================] - 58s 8s/step - loss: 0.4054 - accuracy: 0.8163 - precision: 0.6667 - recall: 0.2000\n",
      "Epoch 13/60\n",
      "7/7 [==============================] - 58s 8s/step - loss: 0.4116 - accuracy: 0.8061 - precision: 0.6250 - recall: 0.1250\n",
      "Epoch 14/60\n",
      "7/7 [==============================] - 58s 8s/step - loss: 0.3966 - accuracy: 0.8163 - precision: 0.7000 - recall: 0.1750\n",
      "Epoch 15/60\n",
      "7/7 [==============================] - 58s 8s/step - loss: 0.3692 - accuracy: 0.8316 - precision: 0.7692 - recall: 0.2500\n",
      "Epoch 16/60\n",
      "7/7 [==============================] - 62s 9s/step - loss: 0.3655 - accuracy: 0.8112 - precision: 0.5882 - recall: 0.2500\n",
      "Epoch 17/60\n",
      "7/7 [==============================] - 62s 9s/step - loss: 0.3745 - accuracy: 0.8367 - precision: 0.7000 - recall: 0.3500\n",
      "Epoch 18/60\n",
      "7/7 [==============================] - 61s 9s/step - loss: 0.3673 - accuracy: 0.8163 - precision: 0.6111 - recall: 0.2750\n",
      "Epoch 19/60\n",
      "7/7 [==============================] - 59s 8s/step - loss: 0.3627 - accuracy: 0.8367 - precision: 0.7500 - recall: 0.3000\n",
      "Epoch 20/60\n",
      "7/7 [==============================] - 58s 8s/step - loss: 0.3620 - accuracy: 0.8265 - precision: 0.6875 - recall: 0.2750\n",
      "Epoch 21/60\n",
      "7/7 [==============================] - 58s 8s/step - loss: 0.3427 - accuracy: 0.8316 - precision: 0.6667 - recall: 0.3500\n",
      "Epoch 22/60\n",
      "7/7 [==============================] - 58s 8s/step - loss: 0.3420 - accuracy: 0.8367 - precision: 0.7857 - recall: 0.2750\n",
      "Epoch 23/60\n",
      "7/7 [==============================] - 57s 8s/step - loss: 0.3450 - accuracy: 0.8214 - precision: 0.7778 - recall: 0.1750\n",
      "Epoch 24/60\n",
      "7/7 [==============================] - 64s 9s/step - loss: 0.3360 - accuracy: 0.8622 - precision: 0.8421 - recall: 0.4000\n",
      "Epoch 25/60\n",
      "7/7 [==============================] - 65s 9s/step - loss: 0.3280 - accuracy: 0.8571 - precision: 0.7500 - recall: 0.4500\n",
      "Epoch 26/60\n",
      "7/7 [==============================] - 60s 8s/step - loss: 0.3226 - accuracy: 0.8622 - precision: 0.8095 - recall: 0.4250\n",
      "Epoch 27/60\n",
      "7/7 [==============================] - 60s 8s/step - loss: 0.3286 - accuracy: 0.8469 - precision: 0.8571 - recall: 0.3000\n",
      "Epoch 28/60\n",
      "7/7 [==============================] - 59s 8s/step - loss: 0.3140 - accuracy: 0.8469 - precision: 0.9167 - recall: 0.2750\n",
      "Epoch 29/60\n",
      "7/7 [==============================] - 58s 8s/step - loss: 0.3144 - accuracy: 0.8776 - precision: 0.8333 - recall: 0.5000\n",
      "Epoch 30/60\n",
      "7/7 [==============================] - 58s 8s/step - loss: 0.3203 - accuracy: 0.8571 - precision: 0.7000 - recall: 0.5250\n",
      "Epoch 31/60\n",
      "7/7 [==============================] - 62s 9s/step - loss: 0.3153 - accuracy: 0.8367 - precision: 0.7857 - recall: 0.2750\n",
      "Epoch 32/60\n",
      "7/7 [==============================] - 59s 8s/step - loss: 0.2997 - accuracy: 0.8469 - precision: 0.7778 - recall: 0.3500\n",
      "Epoch 33/60\n",
      "7/7 [==============================] - 58s 8s/step - loss: 0.2850 - accuracy: 0.8827 - precision: 0.8400 - recall: 0.5250\n",
      "Epoch 34/60\n",
      "7/7 [==============================] - 59s 8s/step - loss: 0.3135 - accuracy: 0.8469 - precision: 0.6389 - recall: 0.5750\n",
      "Epoch 35/60\n",
      "7/7 [==============================] - 58s 8s/step - loss: 0.2931 - accuracy: 0.8622 - precision: 0.8421 - recall: 0.4000\n",
      "Epoch 36/60\n",
      "7/7 [==============================] - 58s 8s/step - loss: 0.2941 - accuracy: 0.8571 - precision: 0.8333 - recall: 0.3750\n",
      "Epoch 37/60\n",
      "7/7 [==============================] - 58s 8s/step - loss: 0.2802 - accuracy: 0.8878 - precision: 0.8000 - recall: 0.6000\n",
      "Epoch 38/60\n",
      "7/7 [==============================] - 60s 8s/step - loss: 0.2915 - accuracy: 0.8571 - precision: 0.8000 - recall: 0.4000\n",
      "Epoch 39/60\n",
      "7/7 [==============================] - 59s 8s/step - loss: 0.2855 - accuracy: 0.8622 - precision: 0.7600 - recall: 0.4750\n",
      "Epoch 40/60\n",
      "7/7 [==============================] - 57s 8s/step - loss: 0.2916 - accuracy: 0.8622 - precision: 0.7407 - recall: 0.5000\n",
      "Epoch 41/60\n",
      "7/7 [==============================] - 57s 8s/step - loss: 0.2830 - accuracy: 0.8673 - precision: 0.9375 - recall: 0.3750\n",
      "Epoch 42/60\n",
      "7/7 [==============================] - 57s 8s/step - loss: 0.2720 - accuracy: 0.8724 - precision: 1.0000 - recall: 0.3750\n",
      "Epoch 43/60\n",
      "7/7 [==============================] - 61s 8s/step - loss: 0.2800 - accuracy: 0.8571 - precision: 0.8333 - recall: 0.3750\n",
      "Epoch 44/60\n",
      "7/7 [==============================] - 59s 8s/step - loss: 0.2633 - accuracy: 0.8980 - precision: 0.7941 - recall: 0.6750\n",
      "Epoch 45/60\n",
      "7/7 [==============================] - 58s 8s/step - loss: 0.2649 - accuracy: 0.8827 - precision: 0.9048 - recall: 0.4750\n",
      "Epoch 46/60\n",
      "7/7 [==============================] - 58s 8s/step - loss: 0.2669 - accuracy: 0.8571 - precision: 1.0000 - recall: 0.3000\n",
      "Epoch 47/60\n",
      "7/7 [==============================] - 60s 8s/step - loss: 0.2556 - accuracy: 0.8622 - precision: 0.8421 - recall: 0.4000\n",
      "Epoch 48/60\n",
      "7/7 [==============================] - 60s 8s/step - loss: 0.2480 - accuracy: 0.9133 - precision: 0.9259 - recall: 0.6250\n",
      "Epoch 49/60\n",
      "7/7 [==============================] - 62s 9s/step - loss: 0.2398 - accuracy: 0.8827 - precision: 0.8696 - recall: 0.5000\n",
      "Epoch 50/60\n",
      "7/7 [==============================] - 61s 8s/step - loss: 0.2463 - accuracy: 0.8571 - precision: 0.8333 - recall: 0.3750\n",
      "Epoch 51/60\n",
      "7/7 [==============================] - 58s 8s/step - loss: 0.2609 - accuracy: 0.8980 - precision: 0.8571 - recall: 0.6000\n",
      "Epoch 52/60\n",
      "7/7 [==============================] - 58s 8s/step - loss: 0.2445 - accuracy: 0.9388 - precision: 0.9118 - recall: 0.7750\n",
      "Epoch 53/60\n",
      "7/7 [==============================] - 58s 8s/step - loss: 0.2566 - accuracy: 0.8622 - precision: 0.8421 - recall: 0.4000\n",
      "Epoch 54/60\n",
      "7/7 [==============================] - 57s 8s/step - loss: 0.2481 - accuracy: 0.8827 - precision: 0.9048 - recall: 0.4750\n",
      "Epoch 55/60\n",
      "7/7 [==============================] - 58s 8s/step - loss: 0.2336 - accuracy: 0.9184 - precision: 0.8750 - recall: 0.7000\n",
      "Epoch 56/60\n",
      "7/7 [==============================] - 58s 8s/step - loss: 0.2272 - accuracy: 0.8929 - precision: 0.9130 - recall: 0.5250\n",
      "Epoch 57/60\n",
      "7/7 [==============================] - 58s 8s/step - loss: 0.2321 - accuracy: 0.8980 - precision: 0.9545 - recall: 0.5250\n",
      "Epoch 58/60\n",
      "7/7 [==============================] - 58s 8s/step - loss: 0.2345 - accuracy: 0.9031 - precision: 0.8621 - recall: 0.6250\n",
      "Epoch 59/60\n",
      "7/7 [==============================] - 59s 8s/step - loss: 0.2326 - accuracy: 0.8827 - precision: 0.9474 - recall: 0.4500\n",
      "Epoch 60/60\n",
      "7/7 [==============================] - 62s 8s/step - loss: 0.2217 - accuracy: 0.9235 - precision: 0.9032 - recall: 0.7000\n"
     ]
    },
    {
     "data": {
      "text/plain": [
       "<keras.callbacks.History at 0x148619c9d30>"
      ]
     },
     "execution_count": 66,
     "metadata": {},
     "output_type": "execute_result"
    }
   ],
   "source": [
    "model.fit(X_train, y_train, epochs=60)"
   ]
  },
  {
   "cell_type": "markdown",
   "metadata": {},
   "source": [
    "## Making Predictions"
   ]
  },
  {
   "cell_type": "code",
   "execution_count": 67,
   "metadata": {},
   "outputs": [],
   "source": [
    "y_predicted = model.predict(X_test)\n",
    "y_predicted = y_predicted.flatten()"
   ]
  },
  {
   "cell_type": "code",
   "execution_count": 68,
   "metadata": {},
   "outputs": [
    {
     "data": {
      "text/plain": [
       "array([0, 1, 1, 0, 0, 0, 0, 0, 0, 0, 1, 0, 1, 0, 0, 0, 0, 0, 1, 0, 0, 1,\n",
       "       0, 1, 0, 0, 1, 1, 0, 0, 0, 0, 0, 0, 0, 0, 0, 0, 0, 1, 0, 0, 0, 1,\n",
       "       0, 0, 0, 0, 0])"
      ]
     },
     "execution_count": 68,
     "metadata": {},
     "output_type": "execute_result"
    }
   ],
   "source": [
    "y_predicted = np.where(y_predicted > 0.5, 1, 0)\n",
    "y_predicted"
   ]
  },
  {
   "cell_type": "markdown",
   "metadata": {},
   "source": [
    "## Evaluating Model Performance"
   ]
  },
  {
   "cell_type": "code",
   "execution_count": 69,
   "metadata": {
    "scrolled": true
   },
   "outputs": [
    {
     "data": {
      "text/plain": [
       "array([[36,  3],\n",
       "       [ 2,  8]], dtype=int64)"
      ]
     },
     "execution_count": 69,
     "metadata": {},
     "output_type": "execute_result"
    }
   ],
   "source": [
    "cm = confusion_matrix(y_test, y_predicted)\n",
    "cm"
   ]
  },
  {
   "cell_type": "code",
   "execution_count": 70,
   "metadata": {},
   "outputs": [
    {
     "data": {
      "text/plain": [
       "Text(33.0, 0.5, 'Truth')"
      ]
     },
     "execution_count": 70,
     "metadata": {},
     "output_type": "execute_result"
    },
    {
     "data": {
      "image/png": "[encoded data removed]",
      "text/plain": [
       "<Figure size 432x288 with 2 Axes>"
      ]
     },
     "metadata": {
      "needs_background": "light"
     },
     "output_type": "display_data"
    }
   ],
   "source": [
    "sn.heatmap(cm, annot=True, fmt='d')\n",
    "plt.xlabel('Predicted')\n",
    "plt.ylabel('Truth')"
   ]
  },
  {
   "cell_type": "code",
   "execution_count": 71,
   "metadata": {},
   "outputs": [
    {
     "name": "stdout",
     "output_type": "stream",
     "text": [
      "              precision    recall  f1-score   support\n",
      "\n",
      "           0       0.95      0.92      0.94        39\n",
      "           1       0.73      0.80      0.76        10\n",
      "\n",
      "    accuracy                           0.90        49\n",
      "   macro avg       0.84      0.86      0.85        49\n",
      "weighted avg       0.90      0.90      0.90        49\n",
      "\n"
     ]
    }
   ],
   "source": [
    "print(classification_report(y_test, y_predicted))"
   ]
  },
  {
   "cell_type": "code",
   "execution_count": 86,
   "metadata": {},
   "outputs": [
    {
     "name": "stdout",
     "output_type": "stream",
     "text": [
      "The accuracy Score is : 0.8979591836734694\n"
     ]
    }
   ],
   "source": [
    "print(\"The accuracy Score is :\",accuracy_score(y_test,y_predicted))"
   ]
  },
  {
   "cell_type": "markdown",
   "metadata": {},
   "source": [
    "## Testing model performance of unseen data "
   ]
  },
  {
   "cell_type": "markdown",
   "metadata": {},
   "source": [
    "Test question source : (click on links to go to the respective pages)\n",
    "- [Science and tech](https://amigoz.app/mcq/s/t/technology-set-1-mcq-questions/5fb90b32de490d1fdcde3edb/?page=12)\n",
    "- [History](https://www.gktoday.in/quizbase/ancient-indian-history-multiple-choice-questions?pageno=9)"
   ]
  },
  {
   "cell_type": "code",
   "execution_count": 92,
   "metadata": {},
   "outputs": [
    {
     "name": "stdout",
     "output_type": "stream",
     "text": [
      "Science & Tech\n"
     ]
    }
   ],
   "source": [
    "prediction = model.predict(['In which decade was the ARRL founded?'])\n",
    "if prediction > 0.5: # as is closer to 1 its Science & Tech and if it is closer to 0 it is History\n",
    "    print('Science & Tech')\n",
    "else :\n",
    "    print('History')"
   ]
  },
  {
   "cell_type": "code",
   "execution_count": 94,
   "metadata": {},
   "outputs": [
    {
     "name": "stdout",
     "output_type": "stream",
     "text": [
      "History\n"
     ]
    }
   ],
   "source": [
    "prediction = model.predict(['With respect to India’s trade with the West which of the following  ports on the western coast of India played an important during 600 A.D. to 1000 A.D.?'])\n",
    "if prediction > 0.5: # as is closer to 1 its Science & Tech and if it is closer to 0 it is History\n",
    "    print('Science & Tech')\n",
    "else :\n",
    "    print('History')"
   ]
  },
  {
   "cell_type": "markdown",
   "metadata": {},
   "source": [
    "## SCOPE OF IMPROVEMENTS:\n",
    "- Using more training data \n",
    "- Creating a deeper neural network"
   ]
  },
  {
   "cell_type": "markdown",
   "metadata": {},
   "source": [
    "# THANK YOU !!"
   ]
  }
 ],
 "metadata": {
  "kernelspec": {
   "display_name": "Python 3",
   "language": "python",
   "name": "python3"
  },
  "language_info": {
   "codemirror_mode": {
    "name": "ipython",
    "version": 3
   },
   "file_extension": ".py",
   "mimetype": "text/x-python",
   "name": "python",
   "nbconvert_exporter": "python",
   "pygments_lexer": "ipython3",
   "version": "3.8.3"
  }
 },
 "nbformat": 4,
 "nbformat_minor": 4
}
